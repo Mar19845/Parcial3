{
 "cells": [
  {
   "cell_type": "code",
   "execution_count": 1,
   "id": "4ec712d8",
   "metadata": {},
   "outputs": [],
   "source": [
    "import pandas as pd\n",
    "import matplotlib.pyplot as plt\n",
    "import numpy as np"
   ]
  },
  {
   "cell_type": "code",
   "execution_count": 45,
   "id": "1cff5cc3-3705-40bf-a864-e4d804246c0f",
   "metadata": {},
   "outputs": [],
   "source": [
    "df = pd.DataFrame(np.random.randint(1,40000,size=(500, 2)), columns=['cost', 'weight'])"
   ]
  },
  {
   "cell_type": "code",
   "execution_count": 46,
   "id": "2e51316d-e9f6-47e8-972f-5c2ca0e39fa4",
   "metadata": {},
   "outputs": [
    {
     "data": {
      "text/html": [
       "<div>\n",
       "<style scoped>\n",
       "    .dataframe tbody tr th:only-of-type {\n",
       "        vertical-align: middle;\n",
       "    }\n",
       "\n",
       "    .dataframe tbody tr th {\n",
       "        vertical-align: top;\n",
       "    }\n",
       "\n",
       "    .dataframe thead th {\n",
       "        text-align: right;\n",
       "    }\n",
       "</style>\n",
       "<table border=\"1\" class=\"dataframe\">\n",
       "  <thead>\n",
       "    <tr style=\"text-align: right;\">\n",
       "      <th></th>\n",
       "      <th>cost</th>\n",
       "      <th>weight</th>\n",
       "    </tr>\n",
       "  </thead>\n",
       "  <tbody>\n",
       "    <tr>\n",
       "      <th>495</th>\n",
       "      <td>19730</td>\n",
       "      <td>1528</td>\n",
       "    </tr>\n",
       "    <tr>\n",
       "      <th>496</th>\n",
       "      <td>30567</td>\n",
       "      <td>16992</td>\n",
       "    </tr>\n",
       "    <tr>\n",
       "      <th>497</th>\n",
       "      <td>17492</td>\n",
       "      <td>4657</td>\n",
       "    </tr>\n",
       "    <tr>\n",
       "      <th>498</th>\n",
       "      <td>8879</td>\n",
       "      <td>25131</td>\n",
       "    </tr>\n",
       "    <tr>\n",
       "      <th>499</th>\n",
       "      <td>9777</td>\n",
       "      <td>14150</td>\n",
       "    </tr>\n",
       "  </tbody>\n",
       "</table>\n",
       "</div>"
      ],
      "text/plain": [
       "      cost  weight\n",
       "495  19730    1528\n",
       "496  30567   16992\n",
       "497  17492    4657\n",
       "498   8879   25131\n",
       "499   9777   14150"
      ]
     },
     "execution_count": 46,
     "metadata": {},
     "output_type": "execute_result"
    }
   ],
   "source": [
    "df.tail()"
   ]
  },
  {
   "cell_type": "code",
   "execution_count": 47,
   "id": "74cd1e90",
   "metadata": {},
   "outputs": [],
   "source": [
    "df2 = df.sample(25).reset_index(drop=True)\n",
    "df3 = df.sample(30).reset_index(drop=True)\n",
    "df4 = df.sample(35).reset_index(drop=True)\n",
    "df5 = df.sample(40).reset_index(drop=True)\n",
    "\n",
    "df6 = df.sample(45).reset_index(drop=True)\n",
    "df7 = df.sample(50).reset_index(drop=True)\n",
    "df8 = df.sample(55).reset_index(drop=True)\n",
    "#df9 = df.sample(60).reset_index(drop=True)\n",
    "df9 = pd.DataFrame(np.random.randint(1,13539,size=(60, 2)), columns=['cost', 'weight'])\n",
    "#df10 = df.sample(500, random_state=0).reset_index(drop=True)"
   ]
  },
  {
   "cell_type": "code",
   "execution_count": 48,
   "id": "0716851e",
   "metadata": {},
   "outputs": [],
   "source": [
    "df2.to_csv('./data/test2.csv', index=False,header=False,encoding='utf-8')\n",
    "df3.to_csv('./data/test3.csv', index=False,header=False,encoding='utf-8')\n",
    "df4.to_csv('./data/test4.csv', index=False,header=False,encoding='utf-8')\n",
    "df5.to_csv('./data/test5.csv', index=False,header=False,encoding='utf-8')\n",
    "\n",
    "df6.to_csv('./data/test6.csv', index=False,header=False,encoding='utf-8')\n",
    "df7.to_csv('./data/test7.csv', index=False,header=False,encoding='utf-8')\n",
    "df8.to_csv('./data/test8.csv', index=False,header=False,encoding='utf-8')\n",
    "df9.to_csv('./data/test9.csv', index=False,header=False,encoding='utf-8')\n",
    "\n",
    "\n"
   ]
  },
  {
   "cell_type": "code",
   "execution_count": 18,
   "id": "965cefd6",
   "metadata": {},
   "outputs": [],
   "source": [
    "from os import walk\n",
    "path = './data/'\n",
    "files = []\n",
    "filenames = next(walk(path), (None, None, []))[2]"
   ]
  },
  {
   "cell_type": "code",
   "execution_count": 19,
   "id": "0a6bf741",
   "metadata": {},
   "outputs": [
    {
     "data": {
      "text/plain": [
       "['test.csv',\n",
       " 'test1.csv',\n",
       " 'test2.csv',\n",
       " 'test3.csv',\n",
       " 'test4.csv',\n",
       " 'test5.csv',\n",
       " 'test6.csv',\n",
       " 'test7.csv',\n",
       " 'test8.csv',\n",
       " 'test9.csv']"
      ]
     },
     "execution_count": 19,
     "metadata": {},
     "output_type": "execute_result"
    }
   ],
   "source": [
    "filenames"
   ]
  },
  {
   "cell_type": "code",
   "execution_count": 12,
   "id": "4aa325a3",
   "metadata": {},
   "outputs": [],
   "source": [
    "for file in filenames:\n",
    "    files.append(path+file)"
   ]
  },
  {
   "cell_type": "code",
   "execution_count": 13,
   "id": "ff80e80f",
   "metadata": {},
   "outputs": [
    {
     "data": {
      "text/plain": [
       "['./data/test.csv',\n",
       " './data/test1.csv',\n",
       " './data/test2.csv',\n",
       " './data/test3.csv',\n",
       " './data/test4.csv',\n",
       " './data/test5.csv',\n",
       " './data/test6.csv',\n",
       " './data/test7.csv',\n",
       " './data/test8.csv',\n",
       " './data/test9.csv']"
      ]
     },
     "execution_count": 13,
     "metadata": {},
     "output_type": "execute_result"
    }
   ],
   "source": [
    "files"
   ]
  }
 ],
 "metadata": {
  "kernelspec": {
   "display_name": "Python 3 (ipykernel)",
   "language": "python",
   "name": "python3"
  },
  "language_info": {
   "codemirror_mode": {
    "name": "ipython",
    "version": 3
   },
   "file_extension": ".py",
   "mimetype": "text/x-python",
   "name": "python",
   "nbconvert_exporter": "python",
   "pygments_lexer": "ipython3",
   "version": "3.9.13"
  }
 },
 "nbformat": 4,
 "nbformat_minor": 5
}
