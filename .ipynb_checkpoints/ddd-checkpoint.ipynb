{
 "cells": [
  {
   "cell_type": "code",
   "execution_count": 18,
   "id": "4ec712d8",
   "metadata": {},
   "outputs": [],
   "source": [
    "import pandas as pd\n",
    "import matplotlib.pyplot as plt\n",
    "import numpy as np"
   ]
  },
  {
   "cell_type": "code",
   "execution_count": 19,
   "id": "ce032bfc",
   "metadata": {},
   "outputs": [],
   "source": [
    "data_file = 'very_large.csv'\n",
    "df = pd.read_csv(data_file, names=['cost', 'weight'])\n",
    "\n",
    "    \n",
    "capacity = int(0.8 * sum(df['weight']))\n",
    "    #print(\"\\nSetting weight capacity to 80% of total: {}\".format(str(capacity)))"
   ]
  },
  {
   "cell_type": "code",
   "execution_count": 20,
   "id": "74cd1e90",
   "metadata": {},
   "outputs": [],
   "source": [
    "df2 = df.sample(100, random_state=0).reset_index(drop=True)\n",
    "df3 = df.sample(150, random_state=0).reset_index(drop=True)\n",
    "df4 = df.sample(250, random_state=0).reset_index(drop=True)\n",
    "df5 = df.sample(500, random_state=0).reset_index(drop=True)"
   ]
  },
  {
   "cell_type": "code",
   "execution_count": 21,
   "id": "0716851e",
   "metadata": {},
   "outputs": [],
   "source": [
    "df2.to_csv('./data/large2.csv', index=False,header=False,encoding='utf-8')\n",
    "df3.to_csv('./data/large3.csv', index=False,header=False,encoding='utf-8')\n",
    "df4.to_csv('./data/large4.csv', index=False,header=False,encoding='utf-8')\n",
    "df5.to_csv('./data/large5.csv', index=False,header=False,encoding='utf-8')"
   ]
  },
  {
   "cell_type": "code",
   "execution_count": 22,
   "id": "965cefd6",
   "metadata": {},
   "outputs": [],
   "source": [
    "from os import walk\n",
    "path = './data/'\n",
    "files = []\n",
    "filenames = next(walk(path), (None, None, []))[2]"
   ]
  },
  {
   "cell_type": "code",
   "execution_count": 23,
   "id": "0a6bf741",
   "metadata": {},
   "outputs": [
    {
     "data": {
      "text/plain": [
       "['large.csv', 'large2.csv', 'large3.csv', 'large4.csv', 'large5.csv']"
      ]
     },
     "execution_count": 23,
     "metadata": {},
     "output_type": "execute_result"
    }
   ],
   "source": [
    "filenames"
   ]
  },
  {
   "cell_type": "code",
   "execution_count": 24,
   "id": "4aa325a3",
   "metadata": {},
   "outputs": [],
   "source": [
    "for file in filenames:\n",
    "    files.append(path+file)"
   ]
  },
  {
   "cell_type": "code",
   "execution_count": 25,
   "id": "ff80e80f",
   "metadata": {},
   "outputs": [
    {
     "data": {
      "text/plain": [
       "['./data/large.csv',\n",
       " './data/large2.csv',\n",
       " './data/large3.csv',\n",
       " './data/large4.csv',\n",
       " './data/large5.csv']"
      ]
     },
     "execution_count": 25,
     "metadata": {},
     "output_type": "execute_result"
    }
   ],
   "source": [
    "files"
   ]
  },
  {
   "cell_type": "code",
   "execution_count": 26,
   "id": "2ecc4ff3",
   "metadata": {},
   "outputs": [
    {
     "data": {
      "text/plain": [
       "cost      int64\n",
       "weight    int64\n",
       "dtype: object"
      ]
     },
     "execution_count": 26,
     "metadata": {},
     "output_type": "execute_result"
    }
   ],
   "source": [
    "df5.dtypes"
   ]
  },
  {
   "cell_type": "code",
   "execution_count": 27,
   "id": "ff7a317f",
   "metadata": {},
   "outputs": [
    {
     "data": {
      "text/html": [
       "<div>\n",
       "<style scoped>\n",
       "    .dataframe tbody tr th:only-of-type {\n",
       "        vertical-align: middle;\n",
       "    }\n",
       "\n",
       "    .dataframe tbody tr th {\n",
       "        vertical-align: top;\n",
       "    }\n",
       "\n",
       "    .dataframe thead th {\n",
       "        text-align: right;\n",
       "    }\n",
       "</style>\n",
       "<table border=\"1\" class=\"dataframe\">\n",
       "  <thead>\n",
       "    <tr style=\"text-align: right;\">\n",
       "      <th></th>\n",
       "      <th>cost</th>\n",
       "      <th>weight</th>\n",
       "    </tr>\n",
       "  </thead>\n",
       "  <tbody>\n",
       "    <tr>\n",
       "      <th>0</th>\n",
       "      <td>403</td>\n",
       "      <td>964</td>\n",
       "    </tr>\n",
       "    <tr>\n",
       "      <th>1</th>\n",
       "      <td>151</td>\n",
       "      <td>739</td>\n",
       "    </tr>\n",
       "    <tr>\n",
       "      <th>2</th>\n",
       "      <td>885</td>\n",
       "      <td>673</td>\n",
       "    </tr>\n",
       "    <tr>\n",
       "      <th>3</th>\n",
       "      <td>685</td>\n",
       "      <td>999</td>\n",
       "    </tr>\n",
       "    <tr>\n",
       "      <th>4</th>\n",
       "      <td>644</td>\n",
       "      <td>386</td>\n",
       "    </tr>\n",
       "  </tbody>\n",
       "</table>\n",
       "</div>"
      ],
      "text/plain": [
       "   cost  weight\n",
       "0   403     964\n",
       "1   151     739\n",
       "2   885     673\n",
       "3   685     999\n",
       "4   644     386"
      ]
     },
     "execution_count": 27,
     "metadata": {},
     "output_type": "execute_result"
    }
   ],
   "source": [
    "df5.head()"
   ]
  },
  {
   "cell_type": "code",
   "execution_count": null,
   "id": "61ffc700",
   "metadata": {},
   "outputs": [],
   "source": []
  }
 ],
 "metadata": {
  "kernelspec": {
   "display_name": "Python 3 (ipykernel)",
   "language": "python",
   "name": "python3"
  },
  "language_info": {
   "codemirror_mode": {
    "name": "ipython",
    "version": 3
   },
   "file_extension": ".py",
   "mimetype": "text/x-python",
   "name": "python",
   "nbconvert_exporter": "python",
   "pygments_lexer": "ipython3",
   "version": "3.9.13"
  }
 },
 "nbformat": 4,
 "nbformat_minor": 5
}
